{
 "cells": [
  {
   "attachments": {
    "4f995fd7-fe58-49b6-bfeb-3c848ba8bdd7.png": {
     "image/png": "[encoded data removed]"
    }
   },
   "cell_type": "markdown",
   "id": "ba429b7d-aab9-4802-9eb6-092598066f08",
   "metadata": {},
   "source": [
    "## 1 introduction to the dataset\n",
    "this dataset from amazon shows us the top 50 beststelling books from 2009 until 2019\n",
    "\n",
    "\n",
    "![image.png](attachment:4f995fd7-fe58-49b6-bfeb-3c848ba8bdd7.png)\n",
    "\n"
   ]
  },
  {
   "cell_type": "code",
   "execution_count": 63,
   "id": "600f8331-6a95-47d1-8d00-ec709f868a41",
   "metadata": {},
   "outputs": [],
   "source": [
    "import pandas as pd\n",
    "import numpy as np\n",
    "#import missingno\n",
    "#import fuzzywuzzy\n",
    "#from fuzzywuzzy import process\n",
    "import collections\n",
    "import matplotlib.pyplot as plt\n",
    "#from plotly.subplots import make_subplots\n",
    "#import plotly.graph_objects as go\n",
    "#import plotly.figure_factory as ff\n",
    "#from scipy.stats import shapiro\n",
    "from scipy.stats import mannwhitneyu\n"
   ]
  },
  {
   "cell_type": "code",
   "execution_count": 64,
   "id": "cb3ae92a-cdd9-4a2d-89dc-06313df0dd6f",
   "metadata": {},
   "outputs": [
    {
     "data": {
      "text/html": [
       "<div>\n",
       "<style scoped>\n",
       "    .dataframe tbody tr th:only-of-type {\n",
       "        vertical-align: middle;\n",
       "    }\n",
       "\n",
       "    .dataframe tbody tr th {\n",
       "        vertical-align: top;\n",
       "    }\n",
       "\n",
       "    .dataframe thead th {\n",
       "        text-align: right;\n",
       "    }\n",
       "</style>\n",
       "<table border=\"1\" class=\"dataframe\">\n",
       "  <thead>\n",
       "    <tr style=\"text-align: right;\">\n",
       "      <th></th>\n",
       "      <th>Name</th>\n",
       "      <th>Author</th>\n",
       "      <th>User Rating</th>\n",
       "      <th>Reviews</th>\n",
       "      <th>Price</th>\n",
       "      <th>Year</th>\n",
       "      <th>Genre</th>\n",
       "    </tr>\n",
       "  </thead>\n",
       "  <tbody>\n",
       "    <tr>\n",
       "      <th>0</th>\n",
       "      <td>10-Day Green Smoothie Cleanse</td>\n",
       "      <td>JJ Smith</td>\n",
       "      <td>4.7</td>\n",
       "      <td>17350</td>\n",
       "      <td>8</td>\n",
       "      <td>2016</td>\n",
       "      <td>Non Fiction</td>\n",
       "    </tr>\n",
       "    <tr>\n",
       "      <th>1</th>\n",
       "      <td>11/22/63: A Novel</td>\n",
       "      <td>Stephen King</td>\n",
       "      <td>4.6</td>\n",
       "      <td>2052</td>\n",
       "      <td>22</td>\n",
       "      <td>2011</td>\n",
       "      <td>Fiction</td>\n",
       "    </tr>\n",
       "    <tr>\n",
       "      <th>2</th>\n",
       "      <td>12 Rules for Life: An Antidote to Chaos</td>\n",
       "      <td>Jordan B. Peterson</td>\n",
       "      <td>4.7</td>\n",
       "      <td>18979</td>\n",
       "      <td>15</td>\n",
       "      <td>2018</td>\n",
       "      <td>Non Fiction</td>\n",
       "    </tr>\n",
       "    <tr>\n",
       "      <th>3</th>\n",
       "      <td>1984 (Signet Classics)</td>\n",
       "      <td>George Orwell</td>\n",
       "      <td>4.7</td>\n",
       "      <td>21424</td>\n",
       "      <td>6</td>\n",
       "      <td>2017</td>\n",
       "      <td>Fiction</td>\n",
       "    </tr>\n",
       "    <tr>\n",
       "      <th>4</th>\n",
       "      <td>5,000 Awesome Facts (About Everything!) (Natio...</td>\n",
       "      <td>National Geographic Kids</td>\n",
       "      <td>4.8</td>\n",
       "      <td>7665</td>\n",
       "      <td>12</td>\n",
       "      <td>2019</td>\n",
       "      <td>Non Fiction</td>\n",
       "    </tr>\n",
       "  </tbody>\n",
       "</table>\n",
       "</div>"
      ],
      "text/plain": [
       "                                                Name  \\\n",
       "0                      10-Day Green Smoothie Cleanse   \n",
       "1                                  11/22/63: A Novel   \n",
       "2            12 Rules for Life: An Antidote to Chaos   \n",
       "3                             1984 (Signet Classics)   \n",
       "4  5,000 Awesome Facts (About Everything!) (Natio...   \n",
       "\n",
       "                     Author  User Rating  Reviews  Price  Year        Genre  \n",
       "0                  JJ Smith          4.7    17350      8  2016  Non Fiction  \n",
       "1              Stephen King          4.6     2052     22  2011      Fiction  \n",
       "2        Jordan B. Peterson          4.7    18979     15  2018  Non Fiction  \n",
       "3             George Orwell          4.7    21424      6  2017      Fiction  \n",
       "4  National Geographic Kids          4.8     7665     12  2019  Non Fiction  "
      ]
     },
     "execution_count": 64,
     "metadata": {},
     "output_type": "execute_result"
    }
   ],
   "source": [
    "#load the dataset as df\n",
    "df = pd.read_csv('bestsellers with categories.csv')\n",
    "#show the first lines\n",
    "df.head()"
   ]
  },
  {
   "cell_type": "code",
   "execution_count": 65,
   "id": "720b1280-4e8c-4dd2-983a-76dc3caa1c06",
   "metadata": {},
   "outputs": [
    {
     "name": "stdout",
     "output_type": "stream",
     "text": [
      "<class 'pandas.core.frame.DataFrame'>\n",
      "RangeIndex: 550 entries, 0 to 549\n",
      "Data columns (total 7 columns):\n",
      " #   Column       Non-Null Count  Dtype  \n",
      "---  ------       --------------  -----  \n",
      " 0   Name         550 non-null    object \n",
      " 1   Author       550 non-null    object \n",
      " 2   User Rating  550 non-null    float64\n",
      " 3   Reviews      550 non-null    int64  \n",
      " 4   Price        550 non-null    int64  \n",
      " 5   Year         550 non-null    int64  \n",
      " 6   Genre        550 non-null    object \n",
      "dtypes: float64(1), int64(3), object(3)\n",
      "memory usage: 30.2+ KB\n",
      "we got 550 records and 7 columns\n"
     ]
    }
   ],
   "source": [
    "# what columns we have and how many?\n",
    "df.info()\n",
    "print(f'we got {df.shape[0]} records and {df.shape[1]} columns')"
   ]
  },
  {
   "cell_type": "code",
   "execution_count": 66,
   "id": "6d5e9c58-c6c6-432c-ae46-93fb5890b442",
   "metadata": {},
   "outputs": [
    {
     "name": "stdout",
     "output_type": "stream",
     "text": [
      "<class 'pandas.core.frame.DataFrame'>\n",
      "RangeIndex: 550 entries, 0 to 549\n",
      "Data columns (total 7 columns):\n",
      " #   Column       Non-Null Count  Dtype         \n",
      "---  ------       --------------  -----         \n",
      " 0   Name         550 non-null    object        \n",
      " 1   Author       550 non-null    object        \n",
      " 2   User Rating  550 non-null    float64       \n",
      " 3   Reviews      550 non-null    int64         \n",
      " 4   Price        550 non-null    int64         \n",
      " 5   Year         550 non-null    datetime64[ns]\n",
      " 6   Genre        550 non-null    category      \n",
      "dtypes: category(1), datetime64[ns](1), float64(1), int64(2), object(2)\n",
      "memory usage: 26.6+ KB\n"
     ]
    }
   ],
   "source": [
    "# convert the year and the genre into the right datatype\n",
    "df.Genre = df.Genre.astype('category')\n",
    "df['Year'] = pd.to_datetime(df['Year'])\n",
    "#check again\n",
    "df.info()"
   ]
  },
  {
   "cell_type": "code",
   "execution_count": 67,
   "id": "b0ac08a3-587c-4941-b896-d0645c10d7a8",
   "metadata": {},
   "outputs": [
    {
     "data": {
      "text/plain": [
       "Name           0\n",
       "Author         0\n",
       "User Rating    0\n",
       "Reviews        0\n",
       "Price          0\n",
       "Year           0\n",
       "Genre          0\n",
       "dtype: int64"
      ]
     },
     "execution_count": 67,
     "metadata": {},
     "output_type": "execute_result"
    }
   ],
   "source": [
    "#do we have any null values?\n",
    "df.isna().sum() # we got luck :-)"
   ]
  },
  {
   "cell_type": "code",
   "execution_count": 68,
   "id": "def2bd44-ca02-404d-aad0-ccf64cf8b72f",
   "metadata": {},
   "outputs": [
    {
     "data": {
      "text/plain": [
       "199"
      ]
     },
     "execution_count": 68,
     "metadata": {},
     "output_type": "execute_result"
    }
   ],
   "source": [
    "# do we have duplicated data?\n",
    "df.duplicated().sum()\n",
    "# these code will only show us complete duplicates, but maybe a book is shown for several years. \n",
    "df.duplicated(['Name']).sum()\n",
    "# so 199 books listen more than one time. "
   ]
  },
  {
   "cell_type": "code",
   "execution_count": 69,
   "id": "4ee6a3f4-c175-45dc-bfd9-617770ccd684",
   "metadata": {},
   "outputs": [],
   "source": [
    "#delete the year column and the double book name entries.\n",
    "del df['Year']"
   ]
  },
  {
   "cell_type": "code",
   "execution_count": 70,
   "id": "bed83178-2c43-4c9d-803d-d2dbb3482d7d",
   "metadata": {},
   "outputs": [
    {
     "data": {
      "text/plain": [
       "10"
      ]
     },
     "execution_count": 70,
     "metadata": {},
     "output_type": "execute_result"
    }
   ],
   "source": [
    "df = df.drop_duplicates(keep = 'first')# only COMPLETE duplicates will be deleted. \n",
    "df.duplicated(['Name']).sum()\n",
    "#looks like 10 book titles still got the same name "
   ]
  },
  {
   "cell_type": "code",
   "execution_count": 71,
   "id": "94d57282-28d6-473f-be46-3bc15b480a9e",
   "metadata": {},
   "outputs": [
    {
     "data": {
      "text/plain": [
       "[('The Help', 3),\n",
       " ('Gone Girl', 2),\n",
       " (\"Quiet: The Power of Introverts in a World That Can't Stop Talking\", 2),\n",
       " ('The 7 Habits of Highly Effective People: Powerful Lessons in Personal Change',\n",
       "  2),\n",
       " ('The Fault in Our Stars', 2),\n",
       " ('The Girl on the Train', 2),\n",
       " ('The Immortal Life of Henrietta Lacks', 2),\n",
       " ('To Kill a Mockingbird', 2),\n",
       " ('Unbroken: A World War II Story of Survival, Resilience, and Redemption', 2),\n",
       " ('10-Day Green Smoothie Cleanse', 1)]"
      ]
     },
     "execution_count": 71,
     "metadata": {},
     "output_type": "execute_result"
    }
   ],
   "source": [
    "#find the titles that still got the same name\n",
    "booktitle = collections.Counter(df.Name.tolist())\n",
    "booktitle.most_common(10)\n",
    "#most_common() returns a list of top 'n' elements from most common to least common, as specified the parameter 'n'."
   ]
  },
  {
   "cell_type": "code",
   "execution_count": 72,
   "id": "5fb793e7-9cba-4d70-abf5-1e21496c42d2",
   "metadata": {},
   "outputs": [
    {
     "data": {
      "text/html": [
       "<div>\n",
       "<style scoped>\n",
       "    .dataframe tbody tr th:only-of-type {\n",
       "        vertical-align: middle;\n",
       "    }\n",
       "\n",
       "    .dataframe tbody tr th {\n",
       "        vertical-align: top;\n",
       "    }\n",
       "\n",
       "    .dataframe thead th {\n",
       "        text-align: right;\n",
       "    }\n",
       "</style>\n",
       "<table border=\"1\" class=\"dataframe\">\n",
       "  <thead>\n",
       "    <tr style=\"text-align: right;\">\n",
       "      <th></th>\n",
       "      <th>Name</th>\n",
       "      <th>Author</th>\n",
       "      <th>User Rating</th>\n",
       "      <th>Reviews</th>\n",
       "      <th>Price</th>\n",
       "      <th>Genre</th>\n",
       "    </tr>\n",
       "  </thead>\n",
       "  <tbody>\n",
       "    <tr>\n",
       "      <th>135</th>\n",
       "      <td>Gone Girl</td>\n",
       "      <td>Gillian Flynn</td>\n",
       "      <td>4.0</td>\n",
       "      <td>57271</td>\n",
       "      <td>10</td>\n",
       "      <td>Fiction</td>\n",
       "    </tr>\n",
       "    <tr>\n",
       "      <th>137</th>\n",
       "      <td>Gone Girl</td>\n",
       "      <td>Gillian Flynn</td>\n",
       "      <td>4.0</td>\n",
       "      <td>57271</td>\n",
       "      <td>9</td>\n",
       "      <td>Fiction</td>\n",
       "    </tr>\n",
       "  </tbody>\n",
       "</table>\n",
       "</div>"
      ],
      "text/plain": [
       "          Name         Author  User Rating  Reviews  Price    Genre\n",
       "135  Gone Girl  Gillian Flynn          4.0    57271     10  Fiction\n",
       "137  Gone Girl  Gillian Flynn          4.0    57271      9  Fiction"
      ]
     },
     "execution_count": 72,
     "metadata": {},
     "output_type": "execute_result"
    }
   ],
   "source": [
    "#this does still not explain why we got some titles more often. let´s see.\n",
    "df[df['Name'] == 'Gone Girl']"
   ]
  },
  {
   "cell_type": "code",
   "execution_count": 77,
   "id": "7edfcc7c-97d1-4bea-bc0f-271f7e2d0358",
   "metadata": {},
   "outputs": [
    {
     "data": {
      "text/plain": [
       "0"
      ]
     },
     "execution_count": 77,
     "metadata": {},
     "output_type": "execute_result"
    }
   ],
   "source": [
    "#so now we see the difference is the price of the book. we will drop the duplicated and take keep the last entry\n",
    "df = df.drop_duplicates(subset = 'Name', keep = 'last') # now we specify the subset Name\n",
    "# and check\n",
    "df.duplicated(['Name']).sum()"
   ]
  },
  {
   "cell_type": "code",
   "execution_count": 74,
   "id": "7a8580de-6803-4a05-b6d9-16ed14cfbfda",
   "metadata": {},
   "outputs": [
    {
     "data": {
      "text/plain": [
       "array(['Abraham Verghese', 'Adam Gasiewski', 'Adam Mansbach', 'Adir Levy',\n",
       "       'Admiral William H. McRaven', 'Adult Coloring Book Designs',\n",
       "       'Alan Moore', 'Alex Michaelides', 'Alice Schertle', 'Allie Brosh',\n",
       "       'American Psychiatric Association',\n",
       "       'American Psychological Association', 'Amor Towles', 'Amy Ramos',\n",
       "       'Amy Shields', 'Andy Weir', 'Angie Grace', 'Angie Thomas',\n",
       "       'Ann Voskamp', 'Ann Whitford Paul', 'Anthony Bourdain',\n",
       "       'Anthony Doerr', 'Atul Gawande', 'Audrey Niffenegger',\n",
       "       'B. J. Novak', 'Bessel van der Kolk M.D.', 'Bill Martin Jr.',\n",
       "       \"Bill O'Reilly\", 'Bill Simmons', 'Blue Star Coloring',\n",
       "       'Bob Woodward', 'Brandon Stanton', 'Brené Brown',\n",
       "       'Brian Kilmeade', 'Bruce Springsteen', 'Carol S. Dweck',\n",
       "       'Celeste Ng', 'Charlaine Harris', 'Charles Duhigg',\n",
       "       'Charles Krauthammer', 'Cheryl Strayed', 'Chip Gaines',\n",
       "       'Chip Heath', 'Chris Cleave', 'Chris Kyle', 'Chrissy Teigen',\n",
       "       'Christina Baker Kline', 'Christopher Paolini',\n",
       "       'Coloring Books for Adults', 'Craig Smith', 'Crispin Boyer', 'DK',\n",
       "       'Dale Carnegie', 'Dan Brown', 'Daniel H. Pink',\n",
       "       'Daniel James Brown', 'Daniel Kahneman', 'Daniel Lipkowitz',\n",
       "       'Dav Pilkey', 'Dave Ramsey', 'David Goggins', 'David Grann',\n",
       "       'David McCullough', 'David Perlmutter MD', 'David Platt',\n",
       "       'David Zinczenko', 'Deborah Diesen',\n",
       "       'Delegates of the Constitutional\\x85', 'Delia Owens',\n",
       "       'Dinah Bucholz', 'Don Miguel Ruiz', 'Donna Tartt', 'Doug Lemov',\n",
       "       'Dr. Seuss', 'Dr. Steven R Gundry MD', 'Drew Daywalt', 'E L James',\n",
       "       'Eben Alexander', 'Edward Klein', 'Edward M. Kennedy',\n",
       "       'Elie Wiesel', 'Elizabeth Strout', 'Emily Winfield Martin',\n",
       "       'Eric Carle', 'Eric Larson', 'Ernest Cline', 'F. A. Hayek',\n",
       "       'F. Scott Fitzgerald', 'Francis Chan', 'Fredrik Backman', 'Gallup',\n",
       "       'Garth Stein', 'Gary Chapman', 'Gayle Forman', 'Geneen Roth',\n",
       "       'George Orwell', 'George R. R. Martin', 'George R.R. Martin',\n",
       "       'George W. Bush', 'Giles Andreae', 'Gillian Flynn', 'Glenn Beck',\n",
       "       'Golden Books', 'Greg Mortenson', 'Harper Lee', 'Heidi Murkoff',\n",
       "       'Hillary Rodham Clinton', 'Hopscotch Girls', 'Howard Stern',\n",
       "       'Ian K. Smith M.D.', 'Ina Garten', 'J. D. Vance', 'J. K. Rowling',\n",
       "       'J.K. Rowling', 'JJ Smith', 'James Comey', 'James Dashner',\n",
       "       'James Patterson', 'Jay Asher', 'Jaycee Dugard', 'Jeff Kinney',\n",
       "       'Jen Sincero', 'Jennifer Smith', 'Jill Twiss', 'Jim Collins',\n",
       "       'Joanna Gaines', 'Joel Fuhrman MD', 'Johanna Basford',\n",
       "       'John Green', 'John Grisham', 'John Heilemann', 'Jon Meacham',\n",
       "       'Jon Stewart', 'Jonathan Cahn', 'Jordan B. Peterson',\n",
       "       'Julia Child', 'Justin Halpern', 'Kathryn Stockett',\n",
       "       'Keith Richards', 'Ken Follett', 'Kevin Kwan', 'Khaled Hosseini',\n",
       "       'Kristin Hannah', 'Larry Schweikart', 'Laura Hillenbrand',\n",
       "       'Laurel Randolph', 'Lin-Manuel Miranda', 'Lysa TerKeurst',\n",
       "       'M Prefontaine', \"Madeleine L'Engle\", 'Malcolm Gladwell',\n",
       "       'Margaret Atwood', 'Margaret Wise Brown', 'Marie Kondō',\n",
       "       'Marjorie Sarnat', 'Mark Hyman M.D.', 'Mark Manson', 'Mark Owen',\n",
       "       'Mark R. Levin', 'Mark Twain', 'Markus Zusak', 'Marty Noble',\n",
       "       'Mary Ann Shaffer', 'Maurice Sendak', 'Melissa Hartwig Urban',\n",
       "       'Michael Lewis', 'Michael Pollan', 'Michael Wolff',\n",
       "       'Michelle Obama', 'Mike Moreno', 'Mitch Albom', 'Muriel Barbery',\n",
       "       'Naomi Kleinberg', 'Nathan W. Pyle', 'National Geographic Kids',\n",
       "       'Neil deGrasse Tyson', 'Paper Peony Press', 'Patrick Lencioni',\n",
       "       'Patrick Thorpe', 'Paul Kalanithi', 'Paula Hawkins',\n",
       "       'Paula McLain', 'Paulo Coelho', 'Pete Souza', 'Peter A. Lillback',\n",
       "       'Phil Robertson', 'Pierre Dukan', 'Pretty Simple Press',\n",
       "       'R. J. Palacio', 'RH Disney', 'Rachel Hollis', 'Raina Telgemeier',\n",
       "       'Randall Munroe', 'Randy Pausch', 'Ray Bradbury', 'Rebecca Skloot',\n",
       "       'Ree Drummond', 'Rick Riordan', 'Rob Bell', 'Rob Elliott',\n",
       "       'Robert Jordan', 'Robert Munsch', 'Rod Campbell', 'Roger Priddy',\n",
       "       'Ron Chernow', 'Rupi Kaur', 'Rush Limbaugh', 'Samin Nosrat',\n",
       "       'Sandra Boynton', 'Sara Gruen', 'Sarah Palin', 'Sarah Young',\n",
       "       \"Sasha O'Hara\", 'Scholastic', 'School Zone',\n",
       "       'Sherri Duskey Rinker', 'Sheryl Sandberg', 'Silly Bear',\n",
       "       'Stephen Kendrick', 'Stephen King', 'Stephen R. Covey',\n",
       "       'Stephenie Meyer', 'Steve Harvey', 'Steven D. Levitt',\n",
       "       'Stieg Larsson', 'Susan Cain', 'Suzanne Collins',\n",
       "       'Ta-Nehisi Coates', 'Tara Westover', 'Tatiana de Rosnay',\n",
       "       'The College Board', 'The Staff of The Late Show with\\x85',\n",
       "       'The Washington Post', 'Thomas Campbell', 'Thomas Piketty',\n",
       "       'Thug Kitchen', 'Timothy Ferriss', 'Tina Fey', 'Todd Burpo',\n",
       "       'Tony Hsieh', 'Tucker Carlson', 'Veronica Roth',\n",
       "       'W. Cleon Skousen', 'Walter Isaacson', 'William Davis',\n",
       "       'William P. Young', 'Wizards RPG Team', 'Zhi Gang Sha'],\n",
       "      dtype=object)"
      ]
     },
     "execution_count": 74,
     "metadata": {},
     "output_type": "execute_result"
    }
   ],
   "source": [
    "#was there a typo in the names of our authors?\n",
    "authors = df.Author.sort_values().unique()\n",
    "authors"
   ]
  },
  {
   "cell_type": "code",
   "execution_count": null,
   "id": "f35f7bf9-01d3-4541-9391-dbfdd9448842",
   "metadata": {},
   "outputs": [],
   "source": []
  },
  {
   "cell_type": "code",
   "execution_count": 75,
   "id": "e3ea041d-9cc7-4e2e-80aa-d0dbd40d9a2a",
   "metadata": {},
   "outputs": [
    {
     "data": {
      "text/plain": [
       "array(['Abraham Verghese', 'Adam Gasiewski', 'Adam Mansbach', 'Adir Levy',\n",
       "       'Admiral William H. McRaven', 'Adult Coloring Book Designs',\n",
       "       'Alan Moore', 'Alex Michaelides', 'Alice Schertle', 'Allie Brosh',\n",
       "       'American Psychiatric Association',\n",
       "       'American Psychological Association', 'Amor Towles', 'Amy Ramos',\n",
       "       'Amy Shields', 'Andy Weir', 'Angie Grace', 'Angie Thomas',\n",
       "       'Ann Voskamp', 'Ann Whitford Paul', 'Anthony Bourdain',\n",
       "       'Anthony Doerr', 'Atul Gawande', 'Audrey Niffenegger',\n",
       "       'B. J. Novak', 'Bessel van der Kolk M.D.', 'Bill Martin Jr.',\n",
       "       \"Bill O'Reilly\", 'Bill Simmons', 'Blue Star Coloring',\n",
       "       'Bob Woodward', 'Brandon Stanton', 'Brené Brown',\n",
       "       'Brian Kilmeade', 'Bruce Springsteen', 'Carol S. Dweck',\n",
       "       'Celeste Ng', 'Charlaine Harris', 'Charles Duhigg',\n",
       "       'Charles Krauthammer', 'Cheryl Strayed', 'Chip Gaines',\n",
       "       'Chip Heath', 'Chris Cleave', 'Chris Kyle', 'Chrissy Teigen',\n",
       "       'Christina Baker Kline', 'Christopher Paolini',\n",
       "       'Coloring Books for Adults', 'Craig Smith', 'Crispin Boyer', 'DK',\n",
       "       'Dale Carnegie', 'Dan Brown', 'Daniel H. Pink',\n",
       "       'Daniel James Brown', 'Daniel Kahneman', 'Daniel Lipkowitz',\n",
       "       'Dav Pilkey', 'Dave Ramsey', 'David Goggins', 'David Grann',\n",
       "       'David McCullough', 'David Perlmutter MD', 'David Platt',\n",
       "       'David Zinczenko', 'Deborah Diesen',\n",
       "       'Delegates of the Constitutional\\x85', 'Delia Owens',\n",
       "       'Dinah Bucholz', 'Don Miguel Ruiz', 'Donna Tartt', 'Doug Lemov',\n",
       "       'Dr. Seuss', 'Dr. Steven R Gundry MD', 'Drew Daywalt', 'E L James',\n",
       "       'Eben Alexander', 'Edward Klein', 'Edward M. Kennedy',\n",
       "       'Elie Wiesel', 'Elizabeth Strout', 'Emily Winfield Martin',\n",
       "       'Eric Carle', 'Eric Larson', 'Ernest Cline', 'F. A. Hayek',\n",
       "       'F. Scott Fitzgerald', 'Francis Chan', 'Fredrik Backman', 'Gallup',\n",
       "       'Garth Stein', 'Gary Chapman', 'Gayle Forman', 'Geneen Roth',\n",
       "       'George Orwell', 'George R.R. Martin', 'George W. Bush',\n",
       "       'Giles Andreae', 'Gillian Flynn', 'Glenn Beck', 'Golden Books',\n",
       "       'Greg Mortenson', 'Harper Lee', 'Heidi Murkoff',\n",
       "       'Hillary Rodham Clinton', 'Hopscotch Girls', 'Howard Stern',\n",
       "       'Ian K. Smith M.D.', 'Ina Garten', 'J. D. Vance', 'J.K. Rowling',\n",
       "       'JJ Smith', 'James Comey', 'James Dashner', 'James Patterson',\n",
       "       'Jay Asher', 'Jaycee Dugard', 'Jeff Kinney', 'Jen Sincero',\n",
       "       'Jennifer Smith', 'Jill Twiss', 'Jim Collins', 'Joanna Gaines',\n",
       "       'Joel Fuhrman MD', 'Johanna Basford', 'John Green', 'John Grisham',\n",
       "       'John Heilemann', 'Jon Meacham', 'Jon Stewart', 'Jonathan Cahn',\n",
       "       'Jordan B. Peterson', 'Julia Child', 'Justin Halpern',\n",
       "       'Kathryn Stockett', 'Keith Richards', 'Ken Follett', 'Kevin Kwan',\n",
       "       'Khaled Hosseini', 'Kristin Hannah', 'Larry Schweikart',\n",
       "       'Laura Hillenbrand', 'Laurel Randolph', 'Lin-Manuel Miranda',\n",
       "       'Lysa TerKeurst', 'M Prefontaine', \"Madeleine L'Engle\",\n",
       "       'Malcolm Gladwell', 'Margaret Atwood', 'Margaret Wise Brown',\n",
       "       'Marie Kondō', 'Marjorie Sarnat', 'Mark Hyman M.D.', 'Mark Manson',\n",
       "       'Mark Owen', 'Mark R. Levin', 'Mark Twain', 'Markus Zusak',\n",
       "       'Marty Noble', 'Mary Ann Shaffer', 'Maurice Sendak',\n",
       "       'Melissa Hartwig Urban', 'Michael Lewis', 'Michael Pollan',\n",
       "       'Michael Wolff', 'Michelle Obama', 'Mike Moreno', 'Mitch Albom',\n",
       "       'Muriel Barbery', 'Naomi Kleinberg', 'Nathan W. Pyle',\n",
       "       'National Geographic Kids', 'Neil deGrasse Tyson',\n",
       "       'Paper Peony Press', 'Patrick Lencioni', 'Patrick Thorpe',\n",
       "       'Paul Kalanithi', 'Paula Hawkins', 'Paula McLain', 'Paulo Coelho',\n",
       "       'Pete Souza', 'Peter A. Lillback', 'Phil Robertson',\n",
       "       'Pierre Dukan', 'Pretty Simple Press', 'R. J. Palacio',\n",
       "       'RH Disney', 'Rachel Hollis', 'Raina Telgemeier', 'Randall Munroe',\n",
       "       'Randy Pausch', 'Ray Bradbury', 'Rebecca Skloot', 'Ree Drummond',\n",
       "       'Rick Riordan', 'Rob Bell', 'Rob Elliott', 'Robert Jordan',\n",
       "       'Robert Munsch', 'Rod Campbell', 'Roger Priddy', 'Ron Chernow',\n",
       "       'Rupi Kaur', 'Rush Limbaugh', 'Samin Nosrat', 'Sandra Boynton',\n",
       "       'Sara Gruen', 'Sarah Palin', 'Sarah Young', \"Sasha O'Hara\",\n",
       "       'Scholastic', 'School Zone', 'Sherri Duskey Rinker',\n",
       "       'Sheryl Sandberg', 'Silly Bear', 'Stephen Kendrick',\n",
       "       'Stephen King', 'Stephen R. Covey', 'Stephenie Meyer',\n",
       "       'Steve Harvey', 'Steven D. Levitt', 'Stieg Larsson', 'Susan Cain',\n",
       "       'Suzanne Collins', 'Ta-Nehisi Coates', 'Tara Westover',\n",
       "       'Tatiana de Rosnay', 'The College Board',\n",
       "       'The Staff of The Late Show with\\x85', 'The Washington Post',\n",
       "       'Thomas Campbell', 'Thomas Piketty', 'Thug Kitchen',\n",
       "       'Timothy Ferriss', 'Tina Fey', 'Todd Burpo', 'Tony Hsieh',\n",
       "       'Tucker Carlson', 'Veronica Roth', 'W. Cleon Skousen',\n",
       "       'Walter Isaacson', 'William Davis', 'William P. Young',\n",
       "       'Wizards RPG Team', 'Zhi Gang Sha'], dtype=object)"
      ]
     },
     "execution_count": 75,
     "metadata": {},
     "output_type": "execute_result"
    }
   ],
   "source": [
    "#two Authors are listed twice due to extra whitespae \n",
    "df = df.replace('George R. R. Martin', 'George R.R. Martin')\n",
    "df = df.replace('J. K. Rowling', 'J.K. Rowling')\n",
    "#recheck \n",
    "authors = df.Author.sort_values().unique()\n",
    "authors"
   ]
  },
  {
   "cell_type": "code",
   "execution_count": 81,
   "id": "905d72c6-321d-4bee-a505-246974f1f4c7",
   "metadata": {},
   "outputs": [
    {
     "name": "stdout",
     "output_type": "stream",
     "text": [
      "<class 'pandas.core.frame.DataFrame'>\n",
      "Int64Index: 351 entries, 0 to 546\n",
      "Data columns (total 6 columns):\n",
      " #   Column       Non-Null Count  Dtype   \n",
      "---  ------       --------------  -----   \n",
      " 0   Name         351 non-null    object  \n",
      " 1   Author       351 non-null    object  \n",
      " 2   User Rating  351 non-null    float64 \n",
      " 3   Reviews      351 non-null    int64   \n",
      " 4   Price        351 non-null    int64   \n",
      " 5   Genre        351 non-null    category\n",
      "dtypes: category(1), float64(1), int64(2), object(2)\n",
      "memory usage: 16.9+ KB\n"
     ]
    },
    {
     "data": {
      "text/plain": [
       "Jeff Kinney            12\n",
       "Rick Riordan           10\n",
       "J.K. Rowling            8\n",
       "Stephenie Meyer         7\n",
       "Dav Pilkey              6\n",
       "                       ..\n",
       "Christopher Paolini     1\n",
       "Jennifer Smith          1\n",
       "Sarah Young             1\n",
       "David Grann             1\n",
       "Jen Sincero             1\n",
       "Name: Author, Length: 246, dtype: int64"
      ]
     },
     "execution_count": 81,
     "metadata": {},
     "output_type": "execute_result"
    }
   ],
   "source": [
    "df.info()\n",
    "df.Author.value_counts()\n",
    "        "
   ]
  },
  {
   "cell_type": "code",
   "execution_count": null,
   "id": "0174f099-3e38-4bb3-bd3b-1d3ac0dfd75d",
   "metadata": {},
   "outputs": [],
   "source": [
    "#now we got 351 book title´s written by 246 titles"
   ]
  },
  {
   "cell_type": "markdown",
   "id": "54491da3-cb82-42a8-b394-69298e4fdc39",
   "metadata": {},
   "source": [
    "## 2 define the questions\n",
    "<ol>\n",
    "  <li>which author has written the most bestsellers?</li>\n",
    "  <li>which books got the most top reviews?</li>\n",
    "  <li>is non-fiction or fiction more popular?</li>\n",
    "  <li>which author got the highest average rating?</li>\n",
    "  <li>are the genres different by rating?</li>\n",
    "</ol>\n"
   ]
  },
  {
   "cell_type": "code",
   "execution_count": null,
   "id": "0edfaa5e-6587-4df9-89af-342ce9e30586",
   "metadata": {},
   "outputs": [],
   "source": []
  }
 ],
 "metadata": {
  "kernelspec": {
   "display_name": "Python 3 (ipykernel)",
   "language": "python",
   "name": "python3"
  },
  "language_info": {
   "codemirror_mode": {
    "name": "ipython",
    "version": 3
   },
   "file_extension": ".py",
   "mimetype": "text/x-python",
   "name": "python",
   "nbconvert_exporter": "python",
   "pygments_lexer": "ipython3",
   "version": "3.8.11"
  }
 },
 "nbformat": 4,
 "nbformat_minor": 5
}
